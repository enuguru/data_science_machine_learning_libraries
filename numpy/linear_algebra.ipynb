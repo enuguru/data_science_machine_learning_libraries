{
 "cells": [
  {
   "cell_type": "code",
   "execution_count": 15,
   "id": "8f59af14",
   "metadata": {},
   "outputs": [
    {
     "name": "stdout",
     "output_type": "stream",
     "text": [
      "[[3400 6200]\n",
      " [ 374  712]]\n"
     ]
    }
   ],
   "source": [
    "# calculating the dot prodct\n",
    "import numpy as np\n",
    "a = np.array([[100,200],[23,12]])  \n",
    "b = np.array([[10,20],[12,21]])  \n",
    "dot = np.dot(a,b)  \n",
    "print(dot)"
   ]
  },
  {
   "cell_type": "code",
   "execution_count": 12,
   "id": "af90181b",
   "metadata": {},
   "outputs": [
    {
     "data": {
      "text/plain": [
       "32"
      ]
     },
     "execution_count": 12,
     "metadata": {},
     "output_type": "execute_result"
    }
   ],
   "source": [
    "# dot product\n",
    "a = np.array([1, 2, 3])\n",
    "b = np.array([4, 5, 6])\n",
    "np.dot(a,b)"
   ]
  },
  {
   "cell_type": "code",
   "execution_count": 3,
   "id": "922cfafb",
   "metadata": {},
   "outputs": [],
   "source": [
    "# The dot product is calculated as:\n",
    "\n",
    "# [100 * 10 + 200 * 12, 100 * 20 + 200 * 21] [23*10+12*12, 23*20 + 12*21] "
   ]
  },
  {
   "cell_type": "code",
   "execution_count": 4,
   "id": "7897ab86",
   "metadata": {},
   "outputs": [
    {
     "name": "stdout",
     "output_type": "stream",
     "text": [
      "5528\n"
     ]
    }
   ],
   "source": [
    "# calculating the dot prodct of vectors\n",
    "a = np.array([[100,200],[23,12]])  \n",
    "b = np.array([[10,20],[12,21]])  \n",
    "vdot = np.vdot(a,b)  \n",
    "print(vdot)  "
   ]
  },
  {
   "cell_type": "code",
   "execution_count": 5,
   "id": "6599a374",
   "metadata": {},
   "outputs": [],
   "source": [
    "# np.vdot(a,b) = 100 *10 + 200 * 20 + 23 * 12 + 12 * 21 = 5528"
   ]
  },
  {
   "cell_type": "code",
   "execution_count": 16,
   "id": "da7a56ef",
   "metadata": {},
   "outputs": [
    {
     "name": "stdout",
     "output_type": "stream",
     "text": [
      "130\n"
     ]
    }
   ],
   "source": [
    "# calculating the inner prodct\n",
    "a = np.array([1,2,3,4,5,6])  \n",
    "b = np.array([23,23,12,2,1,2])  \n",
    "inner = np.inner(a,b)  \n",
    "print(inner)  "
   ]
  },
  {
   "cell_type": "markdown",
   "id": "15391e0a",
   "metadata": {},
   "source": [
    "# multiplication of matrix"
   ]
  },
  {
   "cell_type": "code",
   "execution_count": 17,
   "id": "2c52145e",
   "metadata": {},
   "outputs": [
    {
     "name": "stdout",
     "output_type": "stream",
     "text": [
      "[[ 48  49  43]\n",
      " [144 145 112]\n",
      " [240 241 181]]\n"
     ]
    }
   ],
   "source": [
    "a = np.array([[1,2,3],[4,5,6],[7,8,9]])  \n",
    "b = np.array([[23,23,12],[2,1,2],[7,8,9]])  \n",
    "mul = np.matmul(a,b)  \n",
    "print(mul)  "
   ]
  },
  {
   "cell_type": "code",
   "execution_count": 18,
   "id": "91a5470d",
   "metadata": {},
   "outputs": [
    {
     "data": {
      "text/plain": [
       "array([ 4, 10, 18])"
      ]
     },
     "execution_count": 18,
     "metadata": {},
     "output_type": "execute_result"
    }
   ],
   "source": [
    "# element wise multiplication\n",
    "a = np.array([1, 2, 3])\n",
    "b = np.array([4, 5, 6])\n",
    "a * b"
   ]
  },
  {
   "cell_type": "markdown",
   "id": "2b113dc2",
   "metadata": {},
   "source": [
    "# finding the determinent of the matrix"
   ]
  },
  {
   "cell_type": "code",
   "execution_count": 19,
   "id": "6094fb3b",
   "metadata": {},
   "outputs": [
    {
     "name": "stdout",
     "output_type": "stream",
     "text": [
      "-2.0000000000000004\n"
     ]
    }
   ],
   "source": [
    "a = np.array([[1,2],[3,4]])  \n",
    "print(np.linalg.det(a))  "
   ]
  },
  {
   "cell_type": "markdown",
   "id": "5253a9fd",
   "metadata": {},
   "source": [
    "# solving an equation"
   ]
  },
  {
   "cell_type": "code",
   "execution_count": 21,
   "id": "b12c678d",
   "metadata": {},
   "outputs": [
    {
     "data": {
      "text/plain": [
       "array([-0.58226371,  3.22870478, -1.98599767])"
      ]
     },
     "execution_count": 21,
     "metadata": {},
     "output_type": "execute_result"
    }
   ],
   "source": [
    "import numpy as np\n",
    "\n",
    "A = np.array([[8, 3, -2], [-4, 7, 5], [3, 4, -12]])\n",
    "b = np.array([9, 15, 35])\n",
    "x = np.linalg.solve(A, b)\n",
    "x"
   ]
  },
  {
   "cell_type": "markdown",
   "id": "86235cae",
   "metadata": {},
   "source": [
    "# calculating cross product"
   ]
  },
  {
   "cell_type": "code",
   "execution_count": 22,
   "id": "1662ceb7",
   "metadata": {},
   "outputs": [
    {
     "data": {
      "text/plain": [
       "array([-3,  6, -3])"
      ]
     },
     "execution_count": 22,
     "metadata": {},
     "output_type": "execute_result"
    }
   ],
   "source": [
    "# cross product\n",
    "a = np.array([1, 2, 3])\n",
    "b = np.array([4, 5, 6])\n",
    "np.cross(a, b)"
   ]
  },
  {
   "cell_type": "markdown",
   "id": "c4d0c1af",
   "metadata": {},
   "source": [
    "# calculating matrix inverse"
   ]
  },
  {
   "cell_type": "code",
   "execution_count": 14,
   "id": "e4980ecb",
   "metadata": {},
   "outputs": [
    {
     "name": "stdout",
     "output_type": "stream",
     "text": [
      "Original array:\n",
      " [[1 2]\n",
      " [3 4]]\n",
      "Inverse:\n",
      " [[-2.   1. ]\n",
      " [ 1.5 -0.5]]\n"
     ]
    }
   ],
   "source": [
    "import numpy as np  \n",
    "a = np.array([[1,2],[3,4]])  \n",
    "print(\"Original array:\\n\",a)  \n",
    "b = np.linalg.inv(a)  \n",
    "print(\"Inverse:\\n\",b)  "
   ]
  },
  {
   "cell_type": "code",
   "execution_count": null,
   "id": "45465938",
   "metadata": {},
   "outputs": [],
   "source": []
  }
 ],
 "metadata": {
  "kernelspec": {
   "display_name": "Python 3 (ipykernel)",
   "language": "python",
   "name": "python3"
  },
  "language_info": {
   "codemirror_mode": {
    "name": "ipython",
    "version": 3
   },
   "file_extension": ".py",
   "mimetype": "text/x-python",
   "name": "python",
   "nbconvert_exporter": "python",
   "pygments_lexer": "ipython3",
   "version": "3.9.7"
  }
 },
 "nbformat": 4,
 "nbformat_minor": 5
}
